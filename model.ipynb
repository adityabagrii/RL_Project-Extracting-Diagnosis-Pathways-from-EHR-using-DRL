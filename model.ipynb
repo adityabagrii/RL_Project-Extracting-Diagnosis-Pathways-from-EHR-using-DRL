{
 "cells": [
  {
   "cell_type": "code",
   "execution_count": 349,
   "metadata": {},
   "outputs": [],
   "source": [
    "import numpy as np\n",
    "import pandas as pd\n",
    "import random\n",
    "import os\n",
    "import copy\n",
    "import gym\n",
    "from gym import Env\n",
    "from gym.spaces import Discrete, Box"
   ]
  },
  {
   "cell_type": "markdown",
   "metadata": {},
   "source": [
    "### Defining some commonly used constants"
   ]
  },
  {
   "cell_type": "code",
   "execution_count": 350,
   "metadata": {},
   "outputs": [],
   "source": [
    "SEED = 42\n",
    "\n",
    "MAX_STEPS = 10\n",
    "\n",
    "ACTION_SPACE = ['No anemia', 'Vitamin B12/Folate deficiency anemia', 'Unspecified anemia', 'Anemia of chronic disease', \n",
    "'Iron deficiency anemia', 'Hemolytic anemia', 'Aplastic anemia', 'Inconclusive diagnosis', 'hemoglobin', 'ferritin', 'ret_count',\n",
    "'segmented_neutrophils', 'tibc', 'mcv', 'serum_iron', 'rbc', 'gender', 'creatinine', 'cholestrol', 'copper', 'ethanol', 'folate', \n",
    "'glucose', 'hematocrit', 'tsat']\n",
    "\n",
    "CLASS_DICT = {'No anemia': 0, 'Vitamin B12/Folate deficiency anemia': 1, 'Unspecified anemia': 2, 'Anemia of chronic disease': 3, \n",
    "'Iron deficiency anemia': 4, 'Hemolytic anemia': 5, 'Aplastic anemia': 6, 'Inconclusive diagnosis': 7}\n",
    "\n",
    "FEATURE_NUM = len(ACTION_SPACE) - len(CLASS_DICT)"
   ]
  },
  {
   "cell_type": "markdown",
   "metadata": {},
   "source": [
    "#### Assigning Seed values for code reproducability"
   ]
  },
  {
   "cell_type": "markdown",
   "metadata": {},
   "source": [
    "### Defining the environment"
   ]
  },
  {
   "cell_type": "code",
   "execution_count": 351,
   "metadata": {},
   "outputs": [],
   "source": [
    "# NOTE: The environment code is based from the original source code of the paper with the github link below\n",
    "# https://github.com/lilly-muyama/anemia_diagnosis_pathways\n",
    "class AnemiaEnv(Env):\n",
    "    def __init__(self, X, Y, random=True):\n",
    "        super(AnemiaEnv, self).__init__()\n",
    "        self.action_space = Discrete(len(ACTION_SPACE))\n",
    "        self.observation_space = Box(0, 1.5, (FEATURE_NUM,))\n",
    "        self.actions = ACTION_SPACE\n",
    "        self.max_steps = MAX_STEPS\n",
    "        self.X = X\n",
    "        self.Y = Y\n",
    "        self.sample_num = len(X)\n",
    "        self.idx = -1\n",
    "        self.x = np.zeros((FEATURE_NUM,), dtype=np.float32)\n",
    "        self.y = np.nan\n",
    "        self.state = np.full((FEATURE_NUM,), -1, dtype=np.float32)\n",
    "        self.num_classes = len(CLASS_DICT)\n",
    "        self.episode_length = 0\n",
    "        self.trajectory = []\n",
    "        self.total_reward = 0\n",
    "        self.random = random\n",
    "        self.seed()\n",
    "\n",
    "    # def seed(self, seed=SEED):\n",
    "    #     '''\n",
    "    #     Defining a seed for the environment\n",
    "    #     '''\n",
    "    #     self.np_random, seed = gym.utils.seeding.np_random(seed)\n",
    "    #     return [seed]\n",
    "\n",
    "    \n",
    "    def step(self, action):\n",
    "        '''\n",
    "        A step in the environment\n",
    "        '''\n",
    "        if isinstance(action, np.ndarray):\n",
    "            action = int(action)\n",
    "\n",
    "        self.episode_length += 1\n",
    "        reward = 0\n",
    "        if self.episode_length == self.max_steps: #reached maximum steos\n",
    "            reward -=1\n",
    "            self.total_reward -=1\n",
    "            terminated = True\n",
    "            done = True\n",
    "            y_actual = self.y\n",
    "            y_pred = CLASS_DICT['Inconclusive diagnosis']\n",
    "            is_success = True if y_actual==y_pred else False\n",
    "        elif action < self.num_classes: #diagnosis action\n",
    "            if action == self.y:\n",
    "                reward +=1\n",
    "                self.total_reward += 1\n",
    "                is_success = True\n",
    "            else: \n",
    "                reward -= 1\n",
    "                self.total_reward -= 1\n",
    "                is_success = False\n",
    "            terminated = False\n",
    "            done = True\n",
    "            y_actual = self.y\n",
    "            y_pred = action\n",
    "        elif self.actions[action] in self.trajectory: #terminate episode in case of repeated action\n",
    "            action = CLASS_DICT['Inconclusive diagnosis']\n",
    "            terminated = True\n",
    "            reward -= 1\n",
    "            self.total_reward -= 1\n",
    "            done=True\n",
    "            y_actual = self.y\n",
    "            y_pred = action\n",
    "            is_success = True if y_actual==y_pred else False\n",
    "        else:\n",
    "            terminated = False\n",
    "            reward += 0.0\n",
    "            self.total_reward += 0.0\n",
    "            done = False\n",
    "            self.state = self.get_next_state(action-self.num_classes)\n",
    "            y_actual = np.nan\n",
    "            y_pred = np.nan\n",
    "            is_success = None\n",
    "        self.trajectory.append(self.actions[action])\n",
    "        info = {'index': self.idx, 'episode_length':self.episode_length, 'reward': self.total_reward, 'y_pred': y_pred, \n",
    "                'y_actual': y_actual, 'trajectory':self.trajectory, 'terminated':terminated, 'is_success': is_success}\n",
    "        return self.state, reward, done, info\n",
    "            \n",
    "    \n",
    "    def render(self):\n",
    "        '''\n",
    "        A representation of the current state of the environment\n",
    "        '''\n",
    "        print(f'STEP {self.episode_length} for index {self.idx}')\n",
    "        print(f'Current state: {self.state}')\n",
    "        print(f'Total reward: {self.total_reward}')\n",
    "        print(f'Trajectory: {self.trajectory}')\n",
    "        \n",
    "    \n",
    "    def reset(self, idx=None):\n",
    "        '''\n",
    "        Resetting the environment\n",
    "        '''\n",
    "        if idx is not None:\n",
    "            self.idx = idx\n",
    "        elif self.random:\n",
    "            self.idx = random.randint(0, self.sample_num-1)\n",
    "        else:\n",
    "            self.idx += 1\n",
    "            if self.idx == len(self.X):\n",
    "                raise StopIteration()\n",
    "        self.x, self.y = self.X[self.idx], self.Y[self.idx]\n",
    "        self.state = np.full((FEATURE_NUM,), -1, dtype=np.float32)\n",
    "        self.trajectory = []\n",
    "        self.episode_length = 0\n",
    "        self.total_reward = 0\n",
    "        return self.state\n",
    "        \n",
    "    \n",
    "    def get_next_state(self, feature_idx):\n",
    "        '''\n",
    "        Getting the next state of the environment\n",
    "        '''\n",
    "        self.x = self.x.reshape(-1, FEATURE_NUM)\n",
    "        x_value = self.x[0, feature_idx]\n",
    "        next_state = copy.deepcopy(self.state)\n",
    "        next_state[feature_idx] = x_value\n",
    "        return next_state"
   ]
  },
  {
   "cell_type": "markdown",
   "metadata": {},
   "source": [
    "### Creating and Training the DQN Network"
   ]
  },
  {
   "cell_type": "code",
   "execution_count": 352,
   "metadata": {},
   "outputs": [],
   "source": [
    "data = pd.read_csv('data/train_set_basic.csv')"
   ]
  },
  {
   "cell_type": "code",
   "execution_count": 353,
   "metadata": {},
   "outputs": [
    {
     "data": {
      "text/html": [
       "<div>\n",
       "<style scoped>\n",
       "    .dataframe tbody tr th:only-of-type {\n",
       "        vertical-align: middle;\n",
       "    }\n",
       "\n",
       "    .dataframe tbody tr th {\n",
       "        vertical-align: top;\n",
       "    }\n",
       "\n",
       "    .dataframe thead th {\n",
       "        text-align: right;\n",
       "    }\n",
       "</style>\n",
       "<table border=\"1\" class=\"dataframe\">\n",
       "  <thead>\n",
       "    <tr style=\"text-align: right;\">\n",
       "      <th></th>\n",
       "      <th>hemoglobin</th>\n",
       "      <th>ferritin</th>\n",
       "      <th>ret_count</th>\n",
       "      <th>segmented_neutrophils</th>\n",
       "      <th>tibc</th>\n",
       "      <th>mcv</th>\n",
       "      <th>serum_iron</th>\n",
       "      <th>rbc</th>\n",
       "      <th>gender</th>\n",
       "      <th>creatinine</th>\n",
       "      <th>cholestrol</th>\n",
       "      <th>copper</th>\n",
       "      <th>ethanol</th>\n",
       "      <th>folate</th>\n",
       "      <th>glucose</th>\n",
       "      <th>hematocrit</th>\n",
       "      <th>tsat</th>\n",
       "      <th>label</th>\n",
       "    </tr>\n",
       "  </thead>\n",
       "  <tbody>\n",
       "    <tr>\n",
       "      <th>0</th>\n",
       "      <td>14.728733</td>\n",
       "      <td>-1.000000</td>\n",
       "      <td>3.170892</td>\n",
       "      <td>-1.000000</td>\n",
       "      <td>-1.000000</td>\n",
       "      <td>-1.000000</td>\n",
       "      <td>-1.000000</td>\n",
       "      <td>-1.000000</td>\n",
       "      <td>1</td>\n",
       "      <td>-1.000000</td>\n",
       "      <td>-1.000000</td>\n",
       "      <td>-1.0</td>\n",
       "      <td>-1.000000</td>\n",
       "      <td>-1.0</td>\n",
       "      <td>-1.000000</td>\n",
       "      <td>44.186200</td>\n",
       "      <td>-1.0</td>\n",
       "      <td>0</td>\n",
       "    </tr>\n",
       "    <tr>\n",
       "      <th>1</th>\n",
       "      <td>10.405752</td>\n",
       "      <td>9.634615</td>\n",
       "      <td>5.659537</td>\n",
       "      <td>-1.000000</td>\n",
       "      <td>-1.000000</td>\n",
       "      <td>77.413788</td>\n",
       "      <td>212.671838</td>\n",
       "      <td>4.032519</td>\n",
       "      <td>0</td>\n",
       "      <td>0.887130</td>\n",
       "      <td>96.311597</td>\n",
       "      <td>-1.0</td>\n",
       "      <td>43.218595</td>\n",
       "      <td>-1.0</td>\n",
       "      <td>83.207518</td>\n",
       "      <td>31.217256</td>\n",
       "      <td>-1.0</td>\n",
       "      <td>4</td>\n",
       "    </tr>\n",
       "    <tr>\n",
       "      <th>2</th>\n",
       "      <td>15.132737</td>\n",
       "      <td>358.914888</td>\n",
       "      <td>1.842252</td>\n",
       "      <td>3.797487</td>\n",
       "      <td>315.102272</td>\n",
       "      <td>80.500314</td>\n",
       "      <td>-1.000000</td>\n",
       "      <td>5.639507</td>\n",
       "      <td>0</td>\n",
       "      <td>-1.000000</td>\n",
       "      <td>-1.000000</td>\n",
       "      <td>-1.0</td>\n",
       "      <td>-1.000000</td>\n",
       "      <td>-1.0</td>\n",
       "      <td>-1.000000</td>\n",
       "      <td>45.398211</td>\n",
       "      <td>-1.0</td>\n",
       "      <td>0</td>\n",
       "    </tr>\n",
       "    <tr>\n",
       "      <th>3</th>\n",
       "      <td>11.340169</td>\n",
       "      <td>-1.000000</td>\n",
       "      <td>1.662209</td>\n",
       "      <td>2.441767</td>\n",
       "      <td>-1.000000</td>\n",
       "      <td>97.033963</td>\n",
       "      <td>102.079062</td>\n",
       "      <td>3.506041</td>\n",
       "      <td>1</td>\n",
       "      <td>1.020527</td>\n",
       "      <td>127.281715</td>\n",
       "      <td>-1.0</td>\n",
       "      <td>20.847013</td>\n",
       "      <td>-1.0</td>\n",
       "      <td>62.210273</td>\n",
       "      <td>34.020508</td>\n",
       "      <td>-1.0</td>\n",
       "      <td>6</td>\n",
       "    </tr>\n",
       "    <tr>\n",
       "      <th>4</th>\n",
       "      <td>6.691485</td>\n",
       "      <td>-1.000000</td>\n",
       "      <td>3.337971</td>\n",
       "      <td>-1.000000</td>\n",
       "      <td>-1.000000</td>\n",
       "      <td>99.838438</td>\n",
       "      <td>24.119564</td>\n",
       "      <td>2.010694</td>\n",
       "      <td>0</td>\n",
       "      <td>1.957666</td>\n",
       "      <td>34.633063</td>\n",
       "      <td>-1.0</td>\n",
       "      <td>34.612121</td>\n",
       "      <td>-1.0</td>\n",
       "      <td>112.411298</td>\n",
       "      <td>20.074456</td>\n",
       "      <td>-1.0</td>\n",
       "      <td>5</td>\n",
       "    </tr>\n",
       "  </tbody>\n",
       "</table>\n",
       "</div>"
      ],
      "text/plain": [
       "   hemoglobin    ferritin  ret_count  segmented_neutrophils        tibc  \\\n",
       "0   14.728733   -1.000000   3.170892              -1.000000   -1.000000   \n",
       "1   10.405752    9.634615   5.659537              -1.000000   -1.000000   \n",
       "2   15.132737  358.914888   1.842252               3.797487  315.102272   \n",
       "3   11.340169   -1.000000   1.662209               2.441767   -1.000000   \n",
       "4    6.691485   -1.000000   3.337971              -1.000000   -1.000000   \n",
       "\n",
       "         mcv  serum_iron       rbc  gender  creatinine  cholestrol  copper  \\\n",
       "0  -1.000000   -1.000000 -1.000000       1   -1.000000   -1.000000    -1.0   \n",
       "1  77.413788  212.671838  4.032519       0    0.887130   96.311597    -1.0   \n",
       "2  80.500314   -1.000000  5.639507       0   -1.000000   -1.000000    -1.0   \n",
       "3  97.033963  102.079062  3.506041       1    1.020527  127.281715    -1.0   \n",
       "4  99.838438   24.119564  2.010694       0    1.957666   34.633063    -1.0   \n",
       "\n",
       "     ethanol  folate     glucose  hematocrit  tsat  label  \n",
       "0  -1.000000    -1.0   -1.000000   44.186200  -1.0      0  \n",
       "1  43.218595    -1.0   83.207518   31.217256  -1.0      4  \n",
       "2  -1.000000    -1.0   -1.000000   45.398211  -1.0      0  \n",
       "3  20.847013    -1.0   62.210273   34.020508  -1.0      6  \n",
       "4  34.612121    -1.0  112.411298   20.074456  -1.0      5  "
      ]
     },
     "execution_count": 353,
     "metadata": {},
     "output_type": "execute_result"
    }
   ],
   "source": [
    "data.head()"
   ]
  },
  {
   "cell_type": "code",
   "execution_count": 354,
   "metadata": {},
   "outputs": [
    {
     "data": {
      "text/plain": [
       "0    7200\n",
       "6    6501\n",
       "5    6498\n",
       "1    6483\n",
       "2    6454\n",
       "3    6378\n",
       "4    6047\n",
       "7    4839\n",
       "Name: label, dtype: int64"
      ]
     },
     "execution_count": 354,
     "metadata": {},
     "output_type": "execute_result"
    }
   ],
   "source": [
    "# Check value counts of the target variable\n",
    "data['label'].value_counts()"
   ]
  },
  {
   "cell_type": "code",
   "execution_count": 355,
   "metadata": {},
   "outputs": [
    {
     "name": "stdout",
     "output_type": "stream",
     "text": [
      "   hemoglobin    ferritin  ret_count  segmented_neutrophils        tibc  \\\n",
      "0   14.728733   -1.000000   3.170892              -1.000000   -1.000000   \n",
      "1   10.405752    9.634615   5.659537              -1.000000   -1.000000   \n",
      "2   15.132737  358.914888   1.842252               3.797487  315.102272   \n",
      "3   11.340169   -1.000000   1.662209               2.441767   -1.000000   \n",
      "4    6.691485   -1.000000   3.337971              -1.000000   -1.000000   \n",
      "\n",
      "         mcv  serum_iron       rbc  gender  creatinine  cholestrol  copper  \\\n",
      "0  -1.000000   -1.000000 -1.000000       1   -1.000000   -1.000000    -1.0   \n",
      "1  77.413788  212.671838  4.032519       0    0.887130   96.311597    -1.0   \n",
      "2  80.500314   -1.000000  5.639507       0   -1.000000   -1.000000    -1.0   \n",
      "3  97.033963  102.079062  3.506041       1    1.020527  127.281715    -1.0   \n",
      "4  99.838438   24.119564  2.010694       0    1.957666   34.633063    -1.0   \n",
      "\n",
      "     ethanol  folate     glucose  hematocrit  tsat  \n",
      "0  -1.000000    -1.0   -1.000000   44.186200  -1.0  \n",
      "1  43.218595    -1.0   83.207518   31.217256  -1.0  \n",
      "2  -1.000000    -1.0   -1.000000   45.398211  -1.0  \n",
      "3  20.847013    -1.0   62.210273   34.020508  -1.0  \n",
      "4  34.612121    -1.0  112.411298   20.074456  -1.0  \n",
      "0    0\n",
      "1    4\n",
      "2    0\n",
      "3    6\n",
      "4    5\n",
      "Name: label, dtype: int64\n"
     ]
    }
   ],
   "source": [
    "data.fillna(-1, inplace=True)\n",
    "\n",
    "X_train = data.iloc[:, 0:-1]\n",
    "y_train = data.iloc[:, -1]\n",
    "\n",
    "print(X_train.head())\n",
    "print(y_train.head())\n",
    "\n",
    "X_train, y_train = np.array(X_train), np.array(y_train)"
   ]
  },
  {
   "cell_type": "code",
   "execution_count": 356,
   "metadata": {},
   "outputs": [],
   "source": [
    "environment = AnemiaEnv(X_train, y_train)"
   ]
  },
  {
   "cell_type": "code",
   "execution_count": 357,
   "metadata": {},
   "outputs": [],
   "source": [
    "from stable_baselines3 import DQN"
   ]
  },
  {
   "cell_type": "code",
   "execution_count": 358,
   "metadata": {},
   "outputs": [
    {
     "name": "stderr",
     "output_type": "stream",
     "text": [
      "/Library/Frameworks/Python.framework/Versions/3.7/lib/python3.7/site-packages/stable_baselines3/common/vec_env/patch_gym.py:50: UserWarning: You provided an OpenAI Gym environment. We strongly recommend transitioning to Gymnasium environments. Stable-Baselines3 is automatically wrapping your environments in a compatibility layer, which could potentially cause issues.\n",
      "  \"You provided an OpenAI Gym environment. \"\n"
     ]
    }
   ],
   "source": [
    "model_dqn = DQN('MlpPolicy', environment, learning_rate=0.01, gamma=1, \n",
    "                buffer_size=10, learning_starts=10, \n",
    "                train_freq=4, gradient_steps=1,exploration_fraction=1, \n",
    "                exploration_initial_eps=1.0, exploration_final_eps=0.05)"
   ]
  },
  {
   "cell_type": "code",
   "execution_count": 359,
   "metadata": {},
   "outputs": [
    {
     "data": {
      "text/plain": [
       "<stable_baselines3.dqn.dqn.DQN at 0x7fb320683240>"
      ]
     },
     "execution_count": 359,
     "metadata": {},
     "output_type": "execute_result"
    }
   ],
   "source": [
    "model_dqn.learn(total_timesteps=10000, log_interval=4)"
   ]
  },
  {
   "cell_type": "code",
   "execution_count": 360,
   "metadata": {},
   "outputs": [],
   "source": [
    "def evaluate_dqn(dqn_model, X_test, y_test):\n",
    "    test_df = pd.DataFrame(columns=['index', 'episode_length', 'reward', 'y_pred', 'y_actual', 'trajectory', 'terminated', 'is_success'])\n",
    "    env = AnemiaEnv(X_test, y_test, random=False)\n",
    "    count=0\n",
    "\n",
    "    try:\n",
    "        while True:\n",
    "            count+=1\n",
    "            obs, done = env.reset(), False\n",
    "            while not done:\n",
    "                action, _states = dqn_model.predict(obs, deterministic=True)\n",
    "                obs, reward, done, info = env.step(action)\n",
    "                if done == True:\n",
    "                    test_df = test_df.append(info, ignore_index=True)\n",
    "    except StopIteration:\n",
    "        print(f'Finished evaluating the model on {count} samples')\n",
    "    return test_df"
   ]
  },
  {
   "cell_type": "code",
   "execution_count": 361,
   "metadata": {},
   "outputs": [
    {
     "name": "stdout",
     "output_type": "stream",
     "text": [
      "Finished evaluating the model on 14001 samples\n"
     ]
    }
   ],
   "source": [
    "test_data = pd.read_csv('data/test_set_constant.csv')   \n",
    "test_data.fillna(-1, inplace=True)\n",
    "X_test = test_data.iloc[:, 0:-1]\n",
    "y_test = test_data.iloc[:, -1]\n",
    "X_test, y_test = np.array(X_test), np.array(y_test)\n",
    "test_df = evaluate_dqn(model_dqn, X_test, y_test)"
   ]
  },
  {
   "cell_type": "code",
   "execution_count": 364,
   "metadata": {},
   "outputs": [
    {
     "name": "stdout",
     "output_type": "stream",
     "text": [
      "accuracy: 0.096\n"
     ]
    }
   ],
   "source": [
    "print(f\"accuracy: {test_df['is_success'].mean()}\")"
   ]
  }
 ],
 "metadata": {
  "kernelspec": {
   "display_name": "Python 3",
   "language": "python",
   "name": "python3"
  },
  "language_info": {
   "codemirror_mode": {
    "name": "ipython",
    "version": 3
   },
   "file_extension": ".py",
   "mimetype": "text/x-python",
   "name": "python",
   "nbconvert_exporter": "python",
   "pygments_lexer": "ipython3",
   "version": "3.7.0"
  }
 },
 "nbformat": 4,
 "nbformat_minor": 2
}
